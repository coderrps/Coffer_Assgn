{
 "cells": [
  {
   "cell_type": "code",
   "execution_count": 69,
   "id": "a6567665",
   "metadata": {},
   "outputs": [
    {
     "name": "stderr",
     "output_type": "stream",
     "text": [
      "[nltk_data] Downloading package punkt to C:\\Users\\RITU PRIYA\n",
      "[nltk_data]     SINGH\\AppData\\Roaming\\nltk_data...\n",
      "[nltk_data]   Package punkt is already up-to-date!\n",
      "[nltk_data] Downloading package cmudict to C:\\Users\\RITU PRIYA\n",
      "[nltk_data]     SINGH\\AppData\\Roaming\\nltk_data...\n",
      "[nltk_data]   Package cmudict is already up-to-date!\n",
      "[nltk_data] Downloading package stopwords to C:\\Users\\RITU PRIYA\n",
      "[nltk_data]     SINGH\\AppData\\Roaming\\nltk_data...\n",
      "[nltk_data]   Package stopwords is already up-to-date!\n"
     ]
    },
    {
     "data": {
      "text/plain": [
       "True"
      ]
     },
     "execution_count": 69,
     "metadata": {},
     "output_type": "execute_result"
    }
   ],
   "source": [
    "import requests\n",
    "import pandas as pd\n",
    "from bs4 import BeautifulSoup\n",
    "import os\n",
    "import nltk\n",
    "from nltk.tokenize import word_tokenize, sent_tokenize\n",
    "nltk.download('punkt')\n",
    "nltk.download('cmudict')\n",
    "import string\n",
    "import re\n",
    "nltk.download('stopwords')"
   ]
  },
  {
   "cell_type": "code",
   "execution_count": 3,
   "id": "5518d277",
   "metadata": {},
   "outputs": [],
   "source": [
    "df = pd.read_csv('Input.xlsx - Sheet1.csv')"
   ]
  },
  {
   "cell_type": "code",
   "execution_count": 4,
   "id": "dcff03c6",
   "metadata": {},
   "outputs": [
    {
     "data": {
      "text/html": [
       "<div>\n",
       "<style scoped>\n",
       "    .dataframe tbody tr th:only-of-type {\n",
       "        vertical-align: middle;\n",
       "    }\n",
       "\n",
       "    .dataframe tbody tr th {\n",
       "        vertical-align: top;\n",
       "    }\n",
       "\n",
       "    .dataframe thead th {\n",
       "        text-align: right;\n",
       "    }\n",
       "</style>\n",
       "<table border=\"1\" class=\"dataframe\">\n",
       "  <thead>\n",
       "    <tr style=\"text-align: right;\">\n",
       "      <th></th>\n",
       "      <th>URL_ID</th>\n",
       "      <th>URL</th>\n",
       "    </tr>\n",
       "  </thead>\n",
       "  <tbody>\n",
       "    <tr>\n",
       "      <th>0</th>\n",
       "      <td>blackassign0001</td>\n",
       "      <td>https://insights.blackcoffer.com/rising-it-cit...</td>\n",
       "    </tr>\n",
       "    <tr>\n",
       "      <th>1</th>\n",
       "      <td>blackassign0002</td>\n",
       "      <td>https://insights.blackcoffer.com/rising-it-cit...</td>\n",
       "    </tr>\n",
       "    <tr>\n",
       "      <th>2</th>\n",
       "      <td>blackassign0003</td>\n",
       "      <td>https://insights.blackcoffer.com/internet-dema...</td>\n",
       "    </tr>\n",
       "    <tr>\n",
       "      <th>3</th>\n",
       "      <td>blackassign0004</td>\n",
       "      <td>https://insights.blackcoffer.com/rise-of-cyber...</td>\n",
       "    </tr>\n",
       "    <tr>\n",
       "      <th>4</th>\n",
       "      <td>blackassign0005</td>\n",
       "      <td>https://insights.blackcoffer.com/ott-platform-...</td>\n",
       "    </tr>\n",
       "  </tbody>\n",
       "</table>\n",
       "</div>"
      ],
      "text/plain": [
       "            URL_ID                                                URL\n",
       "0  blackassign0001  https://insights.blackcoffer.com/rising-it-cit...\n",
       "1  blackassign0002  https://insights.blackcoffer.com/rising-it-cit...\n",
       "2  blackassign0003  https://insights.blackcoffer.com/internet-dema...\n",
       "3  blackassign0004  https://insights.blackcoffer.com/rise-of-cyber...\n",
       "4  blackassign0005  https://insights.blackcoffer.com/ott-platform-..."
      ]
     },
     "execution_count": 4,
     "metadata": {},
     "output_type": "execute_result"
    }
   ],
   "source": [
    "df.head()"
   ]
  },
  {
   "cell_type": "code",
   "execution_count": 15,
   "id": "63256ac0",
   "metadata": {},
   "outputs": [
    {
     "data": {
      "text/plain": [
       "(100, 2)"
      ]
     },
     "execution_count": 15,
     "metadata": {},
     "output_type": "execute_result"
    }
   ],
   "source": [
    "df.shape"
   ]
  },
  {
   "cell_type": "code",
   "execution_count": 5,
   "id": "02d0d498",
   "metadata": {},
   "outputs": [],
   "source": [
    "def extract_text_from_url(url):\n",
    "    try:\n",
    "        response = requests.get(url)\n",
    "        response.raise_for_status()\n",
    "        soup = BeautifulSoup(response.content, 'html.parser')\n",
    "        \n",
    "        # Extract text from the webpage\n",
    "        paragraphs = soup.find_all('p')\n",
    "        text = ' '.join([para.get_text() for para in paragraphs])\n",
    "        return text\n",
    "    except requests.RequestException as e:\n",
    "        print(f\"Error fetching {url}: {e}\")\n",
    "        return None"
   ]
  },
  {
   "cell_type": "code",
   "execution_count": 6,
   "id": "3a66993d",
   "metadata": {
    "scrolled": false
   },
   "outputs": [
    {
     "name": "stdout",
     "output_type": "stream",
     "text": [
      "Fetching https://insights.blackcoffer.com/rising-it-cities-and-its-impact-on-the-economy-environment-infrastructure-and-city-life-by-the-year-2040-2/...\n",
      "Fetching https://insights.blackcoffer.com/rising-it-cities-and-their-impact-on-the-economy-environment-infrastructure-and-city-life-in-future/...\n",
      "Fetching https://insights.blackcoffer.com/internet-demands-evolution-communication-impact-and-2035s-alternative-pathways/...\n",
      "Fetching https://insights.blackcoffer.com/rise-of-cybercrime-and-its-effect-in-upcoming-future/...\n",
      "Fetching https://insights.blackcoffer.com/ott-platform-and-its-impact-on-the-entertainment-industry-in-future/...\n",
      "Fetching https://insights.blackcoffer.com/the-rise-of-the-ott-platform-and-its-impact-on-the-entertainment-industry-by-2040/...\n",
      "Fetching https://insights.blackcoffer.com/rise-of-cyber-crime-and-its-effects/...\n",
      "Fetching https://insights.blackcoffer.com/rise-of-internet-demand-and-its-impact-on-communications-and-alternatives-by-the-year-2035-2/...\n",
      "Fetching https://insights.blackcoffer.com/rise-of-cybercrime-and-its-effect-by-the-year-2040-2/...\n",
      "Fetching https://insights.blackcoffer.com/rise-of-cybercrime-and-its-effect-by-the-year-2040/...\n",
      "Fetching https://insights.blackcoffer.com/rise-of-internet-demand-and-its-impact-on-communications-and-alternatives-by-the-year-2035/...\n",
      "Fetching https://insights.blackcoffer.com/rise-of-telemedicine-and-its-impact-on-livelihood-by-2040-3-2/...\n",
      "Fetching https://insights.blackcoffer.com/rise-of-e-health-and-its-impact-on-humans-by-the-year-2030/...\n",
      "Fetching https://insights.blackcoffer.com/rise-of-e-health-and-its-imapct-on-humans-by-the-year-2030-2/...\n",
      "Fetching https://insights.blackcoffer.com/rise-of-telemedicine-and-its-impact-on-livelihood-by-2040-2/...\n",
      "Fetching https://insights.blackcoffer.com/rise-of-telemedicine-and-its-impact-on-livelihood-by-2040-2-2/...\n",
      "Fetching https://insights.blackcoffer.com/rise-of-chatbots-and-its-impact-on-customer-support-by-the-year-2040/...\n",
      "Fetching https://insights.blackcoffer.com/rise-of-e-health-and-its-imapct-on-humans-by-the-year-2030/...\n",
      "Fetching https://insights.blackcoffer.com/how-does-marketing-influence-businesses-and-consumers/...\n",
      "Fetching https://insights.blackcoffer.com/how-advertisement-increase-your-market-value/...\n",
      "Fetching https://insights.blackcoffer.com/negative-effects-of-marketing-on-society/...\n",
      "Fetching https://insights.blackcoffer.com/how-advertisement-marketing-affects-business/...\n",
      "Fetching https://insights.blackcoffer.com/rising-it-cities-will-impact-the-economy-environment-infrastructure-and-city-life-by-the-year-2035/...\n",
      "Fetching https://insights.blackcoffer.com/rise-of-ott-platform-and-its-impact-on-entertainment-industry-by-the-year-2030/...\n",
      "Fetching https://insights.blackcoffer.com/rise-of-electric-vehicles-and-its-impact-on-livelihood-by-2040/...\n",
      "Fetching https://insights.blackcoffer.com/rise-of-electric-vehicle-and-its-impact-on-livelihood-by-the-year-2040/...\n",
      "Fetching https://insights.blackcoffer.com/oil-prices-by-the-year-2040-and-how-it-will-impact-the-world-economy/...\n",
      "Fetching https://insights.blackcoffer.com/an-outlook-of-healthcare-by-the-year-2040-and-how-it-will-impact-human-lives/...\n",
      "Fetching https://insights.blackcoffer.com/ai-in-healthcare-to-improve-patient-outcomes/...\n",
      "Fetching https://insights.blackcoffer.com/what-if-the-creation-is-taking-over-the-creator/...\n",
      "Fetching https://insights.blackcoffer.com/what-jobs-will-robots-take-from-humans-in-the-future/...\n",
      "Fetching https://insights.blackcoffer.com/will-machine-replace-the-human-in-the-future-of-work/...\n",
      "Fetching https://insights.blackcoffer.com/will-ai-replace-us-or-work-with-us/...\n",
      "Fetching https://insights.blackcoffer.com/man-and-machines-together-machines-are-more-diligent-than-humans-blackcoffe/...\n",
      "Fetching https://insights.blackcoffer.com/in-future-or-in-upcoming-years-humans-and-machines-are-going-to-work-together-in-every-field-of-work/...\n",
      "Fetching https://insights.blackcoffer.com/how-neural-networks-can-be-applied-in-various-areas-in-the-future/...\n",
      "Error fetching https://insights.blackcoffer.com/how-neural-networks-can-be-applied-in-various-areas-in-the-future/: 404 Client Error: Not Found for url: https://insights.blackcoffer.com/how-neural-networks-can-be-applied-in-various-areas-in-the-future/\n",
      "Fetching https://insights.blackcoffer.com/how-machine-learning-will-affect-your-business/...\n",
      "Fetching https://insights.blackcoffer.com/deep-learning-impact-on-areas-of-e-learning/...\n",
      "Fetching https://insights.blackcoffer.com/how-to-protect-future-data-and-its-privacy-blackcoffer/...\n",
      "Fetching https://insights.blackcoffer.com/how-machines-ai-automations-and-robo-human-are-effective-in-finance-and-banking/...\n",
      "Fetching https://insights.blackcoffer.com/ai-human-robotics-machine-future-planet-blackcoffer-thinking-jobs-workplace/...\n",
      "Fetching https://insights.blackcoffer.com/how-ai-will-change-the-world-blackcoffer/...\n",
      "Fetching https://insights.blackcoffer.com/future-of-work-how-ai-has-entered-the-workplace/...\n",
      "Fetching https://insights.blackcoffer.com/ai-tool-alexa-google-assistant-finance-banking-tool-future/...\n",
      "Fetching https://insights.blackcoffer.com/ai-healthcare-revolution-ml-technology-algorithm-google-analytics-industrialrevolution/...\n",
      "Fetching https://insights.blackcoffer.com/all-you-need-to-know-about-online-marketing/...\n",
      "Fetching https://insights.blackcoffer.com/evolution-of-advertising-industry/...\n",
      "Fetching https://insights.blackcoffer.com/how-data-analytics-can-help-your-business-respond-to-the-impact-of-covid-19/...\n",
      "Fetching https://insights.blackcoffer.com/covid-19-environmental-impact-for-the-future/...\n",
      "Error fetching https://insights.blackcoffer.com/covid-19-environmental-impact-for-the-future/: 404 Client Error: Not Found for url: https://insights.blackcoffer.com/covid-19-environmental-impact-for-the-future/\n",
      "Fetching https://insights.blackcoffer.com/environmental-impact-of-the-covid-19-pandemic-lesson-for-the-future/...\n",
      "Fetching https://insights.blackcoffer.com/how-data-analytics-and-ai-are-used-to-halt-the-covid-19-pandemic/...\n",
      "Fetching https://insights.blackcoffer.com/difference-between-artificial-intelligence-machine-learning-statistics-and-data-mining/...\n",
      "Fetching https://insights.blackcoffer.com/how-python-became-the-first-choice-for-data-science/...\n",
      "Fetching https://insights.blackcoffer.com/how-google-fit-measure-heart-and-respiratory-rates-using-a-phone/...\n",
      "Fetching https://insights.blackcoffer.com/what-is-the-future-of-mobile-apps/...\n",
      "Fetching https://insights.blackcoffer.com/impact-of-ai-in-health-and-medicine/...\n",
      "Fetching https://insights.blackcoffer.com/telemedicine-what-patients-like-and-dislike-about-it/...\n",
      "Fetching https://insights.blackcoffer.com/how-we-forecast-future-technologies/...\n",
      "Fetching https://insights.blackcoffer.com/can-robots-tackle-late-life-loneliness/...\n",
      "Fetching https://insights.blackcoffer.com/embedding-care-robots-into-society-socio-technical-considerations/...\n",
      "Fetching https://insights.blackcoffer.com/management-challenges-for-future-digitalization-of-healthcare-services/...\n",
      "Fetching https://insights.blackcoffer.com/are-we-any-closer-to-preventing-a-nuclear-holocaust/...\n",
      "Fetching https://insights.blackcoffer.com/will-technology-eliminate-the-need-for-animal-testing-in-drug-development/...\n",
      "Fetching https://insights.blackcoffer.com/will-we-ever-understand-the-nature-of-consciousness/...\n",
      "Fetching https://insights.blackcoffer.com/will-we-ever-colonize-outer-space/...\n",
      "Fetching https://insights.blackcoffer.com/what-is-the-chance-homo-sapiens-will-survive-for-the-next-500-years/...\n",
      "Fetching https://insights.blackcoffer.com/why-does-your-business-need-a-chatbot/...\n",
      "Fetching https://insights.blackcoffer.com/how-you-lead-a-project-or-a-team-without-any-technical-expertise/...\n",
      "Fetching https://insights.blackcoffer.com/can-you-be-great-leader-without-technical-expertise/...\n",
      "Fetching https://insights.blackcoffer.com/how-does-artificial-intelligence-affect-the-environment/...\n",
      "Fetching https://insights.blackcoffer.com/how-to-overcome-your-fear-of-making-mistakes-2/...\n",
      "Fetching https://insights.blackcoffer.com/is-perfection-the-greatest-enemy-of-productivity/...\n",
      "Fetching https://insights.blackcoffer.com/global-financial-crisis-2008-causes-effects-and-its-solution/...\n"
     ]
    },
    {
     "name": "stdout",
     "output_type": "stream",
     "text": [
      "Fetching https://insights.blackcoffer.com/gender-diversity-and-equality-in-the-tech-industry/...\n",
      "Fetching https://insights.blackcoffer.com/how-to-overcome-your-fear-of-making-mistakes/...\n",
      "Fetching https://insights.blackcoffer.com/how-small-business-can-survive-the-coronavirus-crisis/...\n",
      "Fetching https://insights.blackcoffer.com/impacts-of-covid-19-on-vegetable-vendors-and-food-stalls/...\n",
      "Fetching https://insights.blackcoffer.com/impacts-of-covid-19-on-vegetable-vendors/...\n",
      "Fetching https://insights.blackcoffer.com/impact-of-covid-19-pandemic-on-tourism-aviation-industries/...\n",
      "Fetching https://insights.blackcoffer.com/impact-of-covid-19-pandemic-on-sports-events-around-the-world/...\n",
      "Fetching https://insights.blackcoffer.com/changing-landscape-and-emerging-trends-in-the-indian-it-ites-industry/...\n",
      "Fetching https://insights.blackcoffer.com/online-gaming-adolescent-online-gaming-effects-demotivated-depression-musculoskeletal-and-psychosomatic-symptoms/...\n",
      "Fetching https://insights.blackcoffer.com/human-rights-outlook/...\n",
      "Fetching https://insights.blackcoffer.com/how-voice-search-makes-your-business-a-successful-business/...\n",
      "Fetching https://insights.blackcoffer.com/how-the-covid-19-crisis-is-redefining-jobs-and-services/...\n",
      "Fetching https://insights.blackcoffer.com/how-to-increase-social-media-engagement-for-marketers/...\n",
      "Fetching https://insights.blackcoffer.com/impacts-of-covid-19-on-streets-sides-food-stalls/...\n",
      "Fetching https://insights.blackcoffer.com/coronavirus-impact-on-energy-markets-2/...\n",
      "Fetching https://insights.blackcoffer.com/coronavirus-impact-on-the-hospitality-industry-5/...\n",
      "Fetching https://insights.blackcoffer.com/lessons-from-the-past-some-key-learnings-relevant-to-the-coronavirus-crisis-4/...\n",
      "Fetching https://insights.blackcoffer.com/estimating-the-impact-of-covid-19-on-the-world-of-work-2/...\n",
      "Fetching https://insights.blackcoffer.com/estimating-the-impact-of-covid-19-on-the-world-of-work-3/...\n",
      "Fetching https://insights.blackcoffer.com/travel-and-tourism-outlook/...\n",
      "Fetching https://insights.blackcoffer.com/gaming-disorder-and-effects-of-gaming-on-health/...\n",
      "Fetching https://insights.blackcoffer.com/what-is-the-repercussion-of-the-environment-due-to-the-covid-19-pandemic-situation/...\n",
      "Fetching https://insights.blackcoffer.com/what-is-the-repercussion-of-the-environment-due-to-the-covid-19-pandemic-situation-2/...\n",
      "Fetching https://insights.blackcoffer.com/impact-of-covid-19-pandemic-on-office-space-and-co-working-industries/...\n",
      "Fetching https://insights.blackcoffer.com/contribution-of-handicrafts-visual-arts-literature-in-the-indian-economy/...\n",
      "Fetching https://insights.blackcoffer.com/how-covid-19-is-impacting-payment-preferences/...\n",
      "Fetching https://insights.blackcoffer.com/how-will-covid-19-affect-the-world-of-work-2/...\n"
     ]
    }
   ],
   "source": [
    "texts = []\n",
    "for index, row in df.iterrows():\n",
    "    url = row['URL']\n",
    "    print(f\"Fetching {url}...\")\n",
    "    text = extract_text_from_url(url)\n",
    "    if text:\n",
    "        texts.append({\n",
    "            'URL_ID': row['URL_ID'],\n",
    "            'URL': url,\n",
    "            'Text': text\n",
    "        })"
   ]
  },
  {
   "cell_type": "code",
   "execution_count": 7,
   "id": "c84edb58",
   "metadata": {},
   "outputs": [],
   "source": [
    "texts_df = pd.DataFrame(texts)"
   ]
  },
  {
   "cell_type": "code",
   "execution_count": 8,
   "id": "6caa2a4a",
   "metadata": {},
   "outputs": [],
   "source": [
    "# output_csv_file = 'extracted_texts.csv'\n",
    "# texts_df.to_csv(output_csv_file, index=False)\n",
    "\n",
    "\n",
    "# After saving the file i did some cleaning process in the excel itself and then proceeded with \n",
    "# the further cleaning process of the data"
   ]
  },
  {
   "cell_type": "markdown",
   "id": "d8f5f78b",
   "metadata": {},
   "source": [
    "# Cleaning the Extracted Data"
   ]
  },
  {
   "cell_type": "code",
   "execution_count": 124,
   "id": "2f676013",
   "metadata": {},
   "outputs": [],
   "source": [
    "df2 = pd.read_csv('extracted_texts.csv')"
   ]
  },
  {
   "cell_type": "code",
   "execution_count": 125,
   "id": "77e054a6",
   "metadata": {},
   "outputs": [
    {
     "data": {
      "text/html": [
       "<div>\n",
       "<style scoped>\n",
       "    .dataframe tbody tr th:only-of-type {\n",
       "        vertical-align: middle;\n",
       "    }\n",
       "\n",
       "    .dataframe tbody tr th {\n",
       "        vertical-align: top;\n",
       "    }\n",
       "\n",
       "    .dataframe thead th {\n",
       "        text-align: right;\n",
       "    }\n",
       "</style>\n",
       "<table border=\"1\" class=\"dataframe\">\n",
       "  <thead>\n",
       "    <tr style=\"text-align: right;\">\n",
       "      <th></th>\n",
       "      <th>URL_ID</th>\n",
       "      <th>URL</th>\n",
       "      <th>Text</th>\n",
       "    </tr>\n",
       "  </thead>\n",
       "  <tbody>\n",
       "    <tr>\n",
       "      <th>0</th>\n",
       "      <td>blackassign0001</td>\n",
       "      <td>https://insights.blackcoffer.com/rising-it-cit...</td>\n",
       "      <td>We have seen a huge development and dependen...</td>\n",
       "    </tr>\n",
       "    <tr>\n",
       "      <th>1</th>\n",
       "      <td>blackassign0002</td>\n",
       "      <td>https://insights.blackcoffer.com/rising-it-cit...</td>\n",
       "      <td>Throughout history, from the industrial re...</td>\n",
       "    </tr>\n",
       "    <tr>\n",
       "      <th>2</th>\n",
       "      <td>blackassign0003</td>\n",
       "      <td>https://insights.blackcoffer.com/internet-dema...</td>\n",
       "      <td>Introduction In the span of just a few dec...</td>\n",
       "    </tr>\n",
       "    <tr>\n",
       "      <th>3</th>\n",
       "      <td>blackassign0004</td>\n",
       "      <td>https://insights.blackcoffer.com/rise-of-cyber...</td>\n",
       "      <td>The way we live, work, and communicate has...</td>\n",
       "    </tr>\n",
       "    <tr>\n",
       "      <th>4</th>\n",
       "      <td>blackassign0005</td>\n",
       "      <td>https://insights.blackcoffer.com/ott-platform-...</td>\n",
       "      <td>The year 2040 is poised to witness a conti...</td>\n",
       "    </tr>\n",
       "  </tbody>\n",
       "</table>\n",
       "</div>"
      ],
      "text/plain": [
       "            URL_ID                                                URL   \n",
       "0  blackassign0001  https://insights.blackcoffer.com/rising-it-cit...  \\\n",
       "1  blackassign0002  https://insights.blackcoffer.com/rising-it-cit...   \n",
       "2  blackassign0003  https://insights.blackcoffer.com/internet-dema...   \n",
       "3  blackassign0004  https://insights.blackcoffer.com/rise-of-cyber...   \n",
       "4  blackassign0005  https://insights.blackcoffer.com/ott-platform-...   \n",
       "\n",
       "                                                Text  \n",
       "0    We have seen a huge development and dependen...  \n",
       "1      Throughout history, from the industrial re...  \n",
       "2      Introduction In the span of just a few dec...  \n",
       "3      The way we live, work, and communicate has...  \n",
       "4      The year 2040 is poised to witness a conti...  "
      ]
     },
     "execution_count": 125,
     "metadata": {},
     "output_type": "execute_result"
    }
   ],
   "source": [
    "df2.head()"
   ]
  },
  {
   "cell_type": "code",
   "execution_count": 126,
   "id": "b31cb073",
   "metadata": {},
   "outputs": [
    {
     "data": {
      "text/plain": [
       "(98, 3)"
      ]
     },
     "execution_count": 126,
     "metadata": {},
     "output_type": "execute_result"
    }
   ],
   "source": [
    "df2.shape"
   ]
  },
  {
   "cell_type": "code",
   "execution_count": 127,
   "id": "0a955aef",
   "metadata": {},
   "outputs": [
    {
     "name": "stderr",
     "output_type": "stream",
     "text": [
      "[nltk_data] Downloading package punkt to C:\\Users\\RITU PRIYA\n",
      "[nltk_data]     SINGH\\AppData\\Roaming\\nltk_data...\n",
      "[nltk_data]   Package punkt is already up-to-date!\n",
      "[nltk_data] Downloading package cmudict to C:\\Users\\RITU PRIYA\n",
      "[nltk_data]     SINGH\\AppData\\Roaming\\nltk_data...\n",
      "[nltk_data]   Package cmudict is already up-to-date!\n",
      "[nltk_data] Downloading package stopwords to C:\\Users\\RITU PRIYA\n",
      "[nltk_data]     SINGH\\AppData\\Roaming\\nltk_data...\n",
      "[nltk_data]   Package stopwords is already up-to-date!\n"
     ]
    },
    {
     "data": {
      "text/plain": [
       "True"
      ]
     },
     "execution_count": 127,
     "metadata": {},
     "output_type": "execute_result"
    }
   ],
   "source": [
    "nltk.download('punkt')\n",
    "nltk.download('cmudict')\n",
    "nltk.download('stopwords')"
   ]
  },
  {
   "cell_type": "code",
   "execution_count": 128,
   "id": "2a2760fe",
   "metadata": {},
   "outputs": [],
   "source": [
    "stopwords_dir = 'StopWords'\n",
    "master_dict_dir = 'MasterDictionary'\n",
    "positive_words_path = os.path.join(master_dict_dir, 'positive-words.txt')\n",
    "negative_words_path = os.path.join(master_dict_dir, 'negative-words.txt')"
   ]
  },
  {
   "cell_type": "code",
   "execution_count": 129,
   "id": "456c8e52",
   "metadata": {},
   "outputs": [],
   "source": [
    "def load_stop_words(file_path):\n",
    "    with open(file_path, 'r') as file:\n",
    "        stop_words = file.read().splitlines()\n",
    "    return set(stop_words)"
   ]
  },
  {
   "cell_type": "code",
   "execution_count": 130,
   "id": "7cbc275d",
   "metadata": {},
   "outputs": [],
   "source": [
    "stopwords_dir = 'StopWords'\n",
    "stop_words_files = [\n",
    "    'StopWords_Auditor.txt', \n",
    "    'StopWords_Currencies.txt', \n",
    "    'StopWords_DatesandNumbers.txt', \n",
    "    'StopWords_Generic.txt', \n",
    "    'StopWords_GenericLong.txt', \n",
    "    'StopWords_Geographic.txt', \n",
    "    'StopWords_Names.txt'\n",
    "]"
   ]
  },
  {
   "cell_type": "code",
   "execution_count": 131,
   "id": "cb9cfae4",
   "metadata": {},
   "outputs": [],
   "source": [
    "all_stop_words = set()\n",
    "for stop_words_file in stop_words_files:\n",
    "    stop_words_path = os.path.join(stopwords_dir, stop_words_file)\n",
    "    stop_words = load_stop_words(stop_words_path)\n",
    "    all_stop_words.update(stop_words)"
   ]
  },
  {
   "cell_type": "code",
   "execution_count": 135,
   "id": "66ef68fc",
   "metadata": {},
   "outputs": [],
   "source": [
    "def remove_stop_words(text, stop_words):\n",
    "    words = text.split()\n",
    "    cleaned_text = ' '.join([word for word in words if word.lower() not in stop_words])\n",
    "    return cleaned_text"
   ]
  },
  {
   "cell_type": "code",
   "execution_count": 136,
   "id": "d552b6d6",
   "metadata": {
    "scrolled": true
   },
   "outputs": [],
   "source": [
    "df2['Cleaned_Text'] = df2['Text'].apply(lambda x: remove_stop_words(x, all_stop_words))\n"
   ]
  },
  {
   "cell_type": "code",
   "execution_count": 137,
   "id": "91374136",
   "metadata": {},
   "outputs": [
    {
     "data": {
      "text/html": [
       "<div>\n",
       "<style scoped>\n",
       "    .dataframe tbody tr th:only-of-type {\n",
       "        vertical-align: middle;\n",
       "    }\n",
       "\n",
       "    .dataframe tbody tr th {\n",
       "        vertical-align: top;\n",
       "    }\n",
       "\n",
       "    .dataframe thead th {\n",
       "        text-align: right;\n",
       "    }\n",
       "</style>\n",
       "<table border=\"1\" class=\"dataframe\">\n",
       "  <thead>\n",
       "    <tr style=\"text-align: right;\">\n",
       "      <th></th>\n",
       "      <th>URL_ID</th>\n",
       "      <th>URL</th>\n",
       "      <th>Text</th>\n",
       "      <th>Cleaned_Text</th>\n",
       "    </tr>\n",
       "  </thead>\n",
       "  <tbody>\n",
       "    <tr>\n",
       "      <th>0</th>\n",
       "      <td>blackassign0001</td>\n",
       "      <td>https://insights.blackcoffer.com/rising-it-cit...</td>\n",
       "      <td>We have seen a huge development and dependen...</td>\n",
       "      <td>huge development dependence people technology ...</td>\n",
       "    </tr>\n",
       "    <tr>\n",
       "      <th>1</th>\n",
       "      <td>blackassign0002</td>\n",
       "      <td>https://insights.blackcoffer.com/rising-it-cit...</td>\n",
       "      <td>Throughout history, from the industrial re...</td>\n",
       "      <td>history, industrial revolution 18th century de...</td>\n",
       "    </tr>\n",
       "    <tr>\n",
       "      <th>2</th>\n",
       "      <td>blackassign0003</td>\n",
       "      <td>https://insights.blackcoffer.com/internet-dema...</td>\n",
       "      <td>Introduction In the span of just a few dec...</td>\n",
       "      <td>Introduction span decades, internet undergone ...</td>\n",
       "    </tr>\n",
       "    <tr>\n",
       "      <th>3</th>\n",
       "      <td>blackassign0004</td>\n",
       "      <td>https://insights.blackcoffer.com/rise-of-cyber...</td>\n",
       "      <td>The way we live, work, and communicate has...</td>\n",
       "      <td>live, work, communicate unquestionably changed...</td>\n",
       "    </tr>\n",
       "    <tr>\n",
       "      <th>4</th>\n",
       "      <td>blackassign0005</td>\n",
       "      <td>https://insights.blackcoffer.com/ott-platform-...</td>\n",
       "      <td>The year 2040 is poised to witness a conti...</td>\n",
       "      <td>year 2040 poised witness continued revolution ...</td>\n",
       "    </tr>\n",
       "  </tbody>\n",
       "</table>\n",
       "</div>"
      ],
      "text/plain": [
       "            URL_ID                                                URL   \n",
       "0  blackassign0001  https://insights.blackcoffer.com/rising-it-cit...  \\\n",
       "1  blackassign0002  https://insights.blackcoffer.com/rising-it-cit...   \n",
       "2  blackassign0003  https://insights.blackcoffer.com/internet-dema...   \n",
       "3  blackassign0004  https://insights.blackcoffer.com/rise-of-cyber...   \n",
       "4  blackassign0005  https://insights.blackcoffer.com/ott-platform-...   \n",
       "\n",
       "                                                Text   \n",
       "0    We have seen a huge development and dependen...  \\\n",
       "1      Throughout history, from the industrial re...   \n",
       "2      Introduction In the span of just a few dec...   \n",
       "3      The way we live, work, and communicate has...   \n",
       "4      The year 2040 is poised to witness a conti...   \n",
       "\n",
       "                                        Cleaned_Text  \n",
       "0  huge development dependence people technology ...  \n",
       "1  history, industrial revolution 18th century de...  \n",
       "2  Introduction span decades, internet undergone ...  \n",
       "3  live, work, communicate unquestionably changed...  \n",
       "4  year 2040 poised witness continued revolution ...  "
      ]
     },
     "execution_count": 137,
     "metadata": {},
     "output_type": "execute_result"
    }
   ],
   "source": [
    "df2.head()"
   ]
  },
  {
   "cell_type": "code",
   "execution_count": 138,
   "id": "c220051a",
   "metadata": {},
   "outputs": [],
   "source": [
    "def load_words(file_path):\n",
    "    with open(file_path, 'r') as file:\n",
    "        words = file.read().splitlines()\n",
    "    return set(words)"
   ]
  },
  {
   "cell_type": "code",
   "execution_count": 139,
   "id": "090a8579",
   "metadata": {},
   "outputs": [],
   "source": [
    "positive_words = load_words(positive_words_path)\n",
    "negative_words = load_words(negative_words_path)"
   ]
  },
  {
   "cell_type": "code",
   "execution_count": 140,
   "id": "993241f2",
   "metadata": {},
   "outputs": [],
   "source": [
    "positive_words_cleaned = positive_words - all_stop_words\n",
    "negative_words_cleaned = negative_words - all_stop_words"
   ]
  },
  {
   "cell_type": "code",
   "execution_count": 141,
   "id": "ebb6f1ac",
   "metadata": {},
   "outputs": [],
   "source": [
    "word_dict = {\n",
    "    'positive': list(positive_words_cleaned),\n",
    "    'negative': list(negative_words_cleaned)\n",
    "}"
   ]
  },
  {
   "cell_type": "code",
   "execution_count": 142,
   "id": "0564be14",
   "metadata": {},
   "outputs": [
    {
     "name": "stdout",
     "output_type": "stream",
     "text": [
      "Positive words count: 1988\n",
      "Negative words count: 4779\n"
     ]
    }
   ],
   "source": [
    "print(f\"Positive words count: {len(word_dict['positive'])}\")\n",
    "print(f\"Negative words count: {len(word_dict['negative'])}\")"
   ]
  },
  {
   "cell_type": "code",
   "execution_count": 143,
   "id": "777fbdf2",
   "metadata": {},
   "outputs": [],
   "source": [
    "def count_syllables(word):\n",
    "    word = word.lower()\n",
    "    if word in cmudict:\n",
    "        return len([syl for syl in cmudict[word][0] if syl[-1].isdigit()])\n",
    "    else:\n",
    "        # Simple syllable count heuristic for words not in cmudict\n",
    "        word = re.sub(r'[^a-zA-Z]', '', word)\n",
    "        syllable_count = sum(1 for char in word if char in \"aeiouAEIOU\")\n",
    "        if word.endswith(('es', 'ed')) and syllable_count > 1:\n",
    "            syllable_count -= 1\n",
    "        return syllable_count"
   ]
  },
  {
   "cell_type": "code",
   "execution_count": 144,
   "id": "18b276b5",
   "metadata": {},
   "outputs": [],
   "source": [
    "def count_personal_pronouns(text):\n",
    "    pronouns = re.findall(r'\\b(I|we|my|ours|us)\\b', text, re.I)\n",
    "    return len(pronouns)"
   ]
  },
  {
   "cell_type": "code",
   "execution_count": 145,
   "id": "19731b85",
   "metadata": {},
   "outputs": [],
   "source": [
    "def calculate_additional_metrics(text):\n",
    "    sentences = sent_tokenize(text)\n",
    "    words = word_tokenize(text)\n",
    "    words = [word for word in words if word.lower() not in stop_words and word.isalnum()]\n",
    "    \n",
    "    num_words = len(words)\n",
    "    num_complex_words = sum(1 for word in words if count_syllables(word) > 2)\n",
    "    total_syllables = sum(count_syllables(word) for word in words)\n",
    "    personal_pronouns = count_personal_pronouns(text)\n",
    "    total_characters = sum(len(word) for word in words)\n",
    "    avg_word_length = total_characters / num_words if num_words > 0 else 0\n",
    "    \n",
    "    num_sentences = len(sentences)\n",
    "    avg_words_per_sentence = num_words / num_sentences if num_sentences > 0 else 0\n",
    "    \n",
    "    # Calculate additional metrics\n",
    "    positive_score, negative_score, polarity_score, subjectivity_score = calculate_scores(text)\n",
    "    avg_sentence_length = calculate_avg_sentence_length(text)\n",
    "    percentage_complex_words = calculate_percentage_complex_words(num_complex_words, num_words)\n",
    "    fog_index = calculate_fog_index(avg_sentence_length, percentage_complex_words)\n",
    "    syllable_per_word = calculate_syllable_per_word(total_syllables, num_words)\n",
    "    avg_word_length = calculate_avg_word_length(total_characters, num_words)\n",
    "    \n",
    "    return (positive_score, negative_score, polarity_score, subjectivity_score, avg_sentence_length,\n",
    "            percentage_complex_words, fog_index, avg_words_per_sentence, num_complex_words,\n",
    "            num_words, syllable_per_word, personal_pronouns, avg_word_length)"
   ]
  },
  {
   "cell_type": "code",
   "execution_count": 146,
   "id": "b798f209",
   "metadata": {},
   "outputs": [],
   "source": [
    "def calculate_scores(text):\n",
    "    tokens = word_tokenize(text)\n",
    "    positive_score = sum(1 for word in tokens if word.lower() in positive_words)\n",
    "    negative_score = sum(1 for word in tokens if word.lower() in negative_words)\n",
    "    polarity_score = (positive_score - negative_score) / ((positive_score + negative_score) + 0.000001)\n",
    "    subjectivity_score = (positive_score + negative_score) / (len(tokens) + 0.000001)\n",
    "    return positive_score, negative_score, polarity_score, subjectivity_score"
   ]
  },
  {
   "cell_type": "code",
   "execution_count": 147,
   "id": "407f936b",
   "metadata": {},
   "outputs": [],
   "source": [
    "def calculate_avg_sentence_length(text):\n",
    "    sentences = sent_tokenize(text)\n",
    "    num_sentences = len(sentences)\n",
    "    words = word_tokenize(text)\n",
    "    num_words = len(words)\n",
    "    return num_words / num_sentences if num_sentences > 0 else 0"
   ]
  },
  {
   "cell_type": "code",
   "execution_count": 148,
   "id": "6def23aa",
   "metadata": {},
   "outputs": [],
   "source": [
    "def calculate_percentage_complex_words(num_complex_words, num_words):\n",
    "    return (num_complex_words / num_words) * 100 if num_words > 0 else 0"
   ]
  },
  {
   "cell_type": "code",
   "execution_count": 149,
   "id": "9669494e",
   "metadata": {},
   "outputs": [],
   "source": [
    "def calculate_fog_index(avg_sentence_length, percentage_complex_words):\n",
    "    return 0.4 * (avg_sentence_length + percentage_complex_words)"
   ]
  },
  {
   "cell_type": "code",
   "execution_count": 150,
   "id": "f39fefe1",
   "metadata": {},
   "outputs": [],
   "source": [
    "def calculate_syllable_per_word(total_syllables, num_words):\n",
    "    return total_syllables / num_words if num_words > 0 else 0"
   ]
  },
  {
   "cell_type": "code",
   "execution_count": 151,
   "id": "5ebc91a6",
   "metadata": {},
   "outputs": [],
   "source": [
    "def calculate_avg_word_length(total_characters, num_words):\n",
    "    return total_characters / num_words if num_words > 0 else 0"
   ]
  },
  {
   "cell_type": "code",
   "execution_count": 152,
   "id": "80875a8e",
   "metadata": {},
   "outputs": [],
   "source": [
    "df2[['POSITIVE SCORE', 'NEGATIVE SCORE', 'POLARITY SCORE', 'SUBJECTIVITY SCORE',\n",
    "     'AVG SENTENCE LENGTH', 'PERCENTAGE OF COMPLEX WORDS', 'FOG INDEX',\n",
    "     'AVG NUMBER OF WORDS PER SENTENCE', 'COMPLEX WORD COUNT', 'WORD COUNT',\n",
    "     'SYLLABLE PER WORD', 'PERSONAL PRONOUNS', 'AVG WORD LENGTH']] = df2['Cleaned_Text'].apply(\n",
    "    lambda x: pd.Series(calculate_additional_metrics(x))\n",
    ")"
   ]
  },
  {
   "cell_type": "code",
   "execution_count": 156,
   "id": "d8f82186",
   "metadata": {},
   "outputs": [
    {
     "data": {
      "text/html": [
       "<div>\n",
       "<style scoped>\n",
       "    .dataframe tbody tr th:only-of-type {\n",
       "        vertical-align: middle;\n",
       "    }\n",
       "\n",
       "    .dataframe tbody tr th {\n",
       "        vertical-align: top;\n",
       "    }\n",
       "\n",
       "    .dataframe thead th {\n",
       "        text-align: right;\n",
       "    }\n",
       "</style>\n",
       "<table border=\"1\" class=\"dataframe\">\n",
       "  <thead>\n",
       "    <tr style=\"text-align: right;\">\n",
       "      <th></th>\n",
       "      <th>URL_ID</th>\n",
       "      <th>URL</th>\n",
       "      <th>Text</th>\n",
       "      <th>Cleaned_Text</th>\n",
       "      <th>POSITIVE SCORE</th>\n",
       "      <th>NEGATIVE SCORE</th>\n",
       "      <th>POLARITY SCORE</th>\n",
       "      <th>SUBJECTIVITY SCORE</th>\n",
       "      <th>AVG SENTENCE LENGTH</th>\n",
       "      <th>PERCENTAGE OF COMPLEX WORDS</th>\n",
       "      <th>FOG INDEX</th>\n",
       "      <th>AVG NUMBER OF WORDS PER SENTENCE</th>\n",
       "      <th>COMPLEX WORD COUNT</th>\n",
       "      <th>WORD COUNT</th>\n",
       "      <th>SYLLABLE PER WORD</th>\n",
       "      <th>PERSONAL PRONOUNS</th>\n",
       "      <th>AVG WORD LENGTH</th>\n",
       "    </tr>\n",
       "  </thead>\n",
       "  <tbody>\n",
       "    <tr>\n",
       "      <th>0</th>\n",
       "      <td>blackassign0001</td>\n",
       "      <td>https://insights.blackcoffer.com/rising-it-cit...</td>\n",
       "      <td>We have seen a huge development and dependen...</td>\n",
       "      <td>huge development dependence people technology ...</td>\n",
       "      <td>9.0</td>\n",
       "      <td>1.0</td>\n",
       "      <td>0.800000</td>\n",
       "      <td>0.040486</td>\n",
       "      <td>9.880000</td>\n",
       "      <td>33.333333</td>\n",
       "      <td>17.285333</td>\n",
       "      <td>7.680000</td>\n",
       "      <td>64.0</td>\n",
       "      <td>192.0</td>\n",
       "      <td>2.197917</td>\n",
       "      <td>2.0</td>\n",
       "      <td>6.677083</td>\n",
       "    </tr>\n",
       "    <tr>\n",
       "      <th>1</th>\n",
       "      <td>blackassign0002</td>\n",
       "      <td>https://insights.blackcoffer.com/rising-it-cit...</td>\n",
       "      <td>Throughout history, from the industrial re...</td>\n",
       "      <td>history, industrial revolution 18th century de...</td>\n",
       "      <td>60.0</td>\n",
       "      <td>31.0</td>\n",
       "      <td>0.318681</td>\n",
       "      <td>0.088694</td>\n",
       "      <td>12.987342</td>\n",
       "      <td>42.481203</td>\n",
       "      <td>22.187418</td>\n",
       "      <td>10.101266</td>\n",
       "      <td>339.0</td>\n",
       "      <td>798.0</td>\n",
       "      <td>2.428571</td>\n",
       "      <td>3.0</td>\n",
       "      <td>7.273183</td>\n",
       "    </tr>\n",
       "    <tr>\n",
       "      <th>2</th>\n",
       "      <td>blackassign0003</td>\n",
       "      <td>https://insights.blackcoffer.com/internet-dema...</td>\n",
       "      <td>Introduction In the span of just a few dec...</td>\n",
       "      <td>Introduction span decades, internet undergone ...</td>\n",
       "      <td>41.0</td>\n",
       "      <td>24.0</td>\n",
       "      <td>0.261538</td>\n",
       "      <td>0.079268</td>\n",
       "      <td>14.137931</td>\n",
       "      <td>54.616588</td>\n",
       "      <td>27.501808</td>\n",
       "      <td>11.017241</td>\n",
       "      <td>349.0</td>\n",
       "      <td>639.0</td>\n",
       "      <td>2.746479</td>\n",
       "      <td>1.0</td>\n",
       "      <td>8.162754</td>\n",
       "    </tr>\n",
       "    <tr>\n",
       "      <th>3</th>\n",
       "      <td>blackassign0004</td>\n",
       "      <td>https://insights.blackcoffer.com/rise-of-cyber...</td>\n",
       "      <td>The way we live, work, and communicate has...</td>\n",
       "      <td>live, work, communicate unquestionably changed...</td>\n",
       "      <td>41.0</td>\n",
       "      <td>75.0</td>\n",
       "      <td>-0.293103</td>\n",
       "      <td>0.142857</td>\n",
       "      <td>15.615385</td>\n",
       "      <td>50.473186</td>\n",
       "      <td>26.435428</td>\n",
       "      <td>12.192308</td>\n",
       "      <td>320.0</td>\n",
       "      <td>634.0</td>\n",
       "      <td>2.632492</td>\n",
       "      <td>1.0</td>\n",
       "      <td>7.998423</td>\n",
       "    </tr>\n",
       "    <tr>\n",
       "      <th>4</th>\n",
       "      <td>blackassign0005</td>\n",
       "      <td>https://insights.blackcoffer.com/ott-platform-...</td>\n",
       "      <td>The year 2040 is poised to witness a conti...</td>\n",
       "      <td>year 2040 poised witness continued revolution ...</td>\n",
       "      <td>24.0</td>\n",
       "      <td>8.0</td>\n",
       "      <td>0.500000</td>\n",
       "      <td>0.064909</td>\n",
       "      <td>12.325000</td>\n",
       "      <td>38.860104</td>\n",
       "      <td>20.474041</td>\n",
       "      <td>9.650000</td>\n",
       "      <td>150.0</td>\n",
       "      <td>386.0</td>\n",
       "      <td>2.349741</td>\n",
       "      <td>1.0</td>\n",
       "      <td>7.352332</td>\n",
       "    </tr>\n",
       "  </tbody>\n",
       "</table>\n",
       "</div>"
      ],
      "text/plain": [
       "            URL_ID                                                URL   \n",
       "0  blackassign0001  https://insights.blackcoffer.com/rising-it-cit...  \\\n",
       "1  blackassign0002  https://insights.blackcoffer.com/rising-it-cit...   \n",
       "2  blackassign0003  https://insights.blackcoffer.com/internet-dema...   \n",
       "3  blackassign0004  https://insights.blackcoffer.com/rise-of-cyber...   \n",
       "4  blackassign0005  https://insights.blackcoffer.com/ott-platform-...   \n",
       "\n",
       "                                                Text   \n",
       "0    We have seen a huge development and dependen...  \\\n",
       "1      Throughout history, from the industrial re...   \n",
       "2      Introduction In the span of just a few dec...   \n",
       "3      The way we live, work, and communicate has...   \n",
       "4      The year 2040 is poised to witness a conti...   \n",
       "\n",
       "                                        Cleaned_Text  POSITIVE SCORE   \n",
       "0  huge development dependence people technology ...             9.0  \\\n",
       "1  history, industrial revolution 18th century de...            60.0   \n",
       "2  Introduction span decades, internet undergone ...            41.0   \n",
       "3  live, work, communicate unquestionably changed...            41.0   \n",
       "4  year 2040 poised witness continued revolution ...            24.0   \n",
       "\n",
       "   NEGATIVE SCORE  POLARITY SCORE  SUBJECTIVITY SCORE  AVG SENTENCE LENGTH   \n",
       "0             1.0        0.800000            0.040486             9.880000  \\\n",
       "1            31.0        0.318681            0.088694            12.987342   \n",
       "2            24.0        0.261538            0.079268            14.137931   \n",
       "3            75.0       -0.293103            0.142857            15.615385   \n",
       "4             8.0        0.500000            0.064909            12.325000   \n",
       "\n",
       "   PERCENTAGE OF COMPLEX WORDS  FOG INDEX  AVG NUMBER OF WORDS PER SENTENCE   \n",
       "0                    33.333333  17.285333                          7.680000  \\\n",
       "1                    42.481203  22.187418                         10.101266   \n",
       "2                    54.616588  27.501808                         11.017241   \n",
       "3                    50.473186  26.435428                         12.192308   \n",
       "4                    38.860104  20.474041                          9.650000   \n",
       "\n",
       "   COMPLEX WORD COUNT  WORD COUNT  SYLLABLE PER WORD  PERSONAL PRONOUNS   \n",
       "0                64.0       192.0           2.197917                2.0  \\\n",
       "1               339.0       798.0           2.428571                3.0   \n",
       "2               349.0       639.0           2.746479                1.0   \n",
       "3               320.0       634.0           2.632492                1.0   \n",
       "4               150.0       386.0           2.349741                1.0   \n",
       "\n",
       "   AVG WORD LENGTH  \n",
       "0         6.677083  \n",
       "1         7.273183  \n",
       "2         8.162754  \n",
       "3         7.998423  \n",
       "4         7.352332  "
      ]
     },
     "execution_count": 156,
     "metadata": {},
     "output_type": "execute_result"
    }
   ],
   "source": [
    "df2.head()"
   ]
  },
  {
   "cell_type": "code",
   "execution_count": 157,
   "id": "8ad7fe84",
   "metadata": {},
   "outputs": [
    {
     "data": {
      "text/plain": [
       "(98, 17)"
      ]
     },
     "execution_count": 157,
     "metadata": {},
     "output_type": "execute_result"
    }
   ],
   "source": [
    "df2.shape"
   ]
  },
  {
   "cell_type": "code",
   "execution_count": 158,
   "id": "497bd32d",
   "metadata": {},
   "outputs": [],
   "source": [
    "df2.to_csv('result.csv', index=False)"
   ]
  },
  {
   "cell_type": "code",
   "execution_count": null,
   "id": "768ca0c2",
   "metadata": {},
   "outputs": [],
   "source": []
  },
  {
   "cell_type": "code",
   "execution_count": null,
   "id": "0100eb1e",
   "metadata": {},
   "outputs": [],
   "source": []
  },
  {
   "cell_type": "code",
   "execution_count": null,
   "id": "ca4fceb9",
   "metadata": {},
   "outputs": [],
   "source": [
    "# Missing: 36 and 49"
   ]
  }
 ],
 "metadata": {
  "kernelspec": {
   "display_name": "Python 3 (ipykernel)",
   "language": "python",
   "name": "python3"
  },
  "language_info": {
   "codemirror_mode": {
    "name": "ipython",
    "version": 3
   },
   "file_extension": ".py",
   "mimetype": "text/x-python",
   "name": "python",
   "nbconvert_exporter": "python",
   "pygments_lexer": "ipython3",
   "version": "3.11.3"
  }
 },
 "nbformat": 4,
 "nbformat_minor": 5
}
